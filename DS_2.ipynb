{
 "cells": [
  {
   "attachments": {},
   "cell_type": "markdown",
   "metadata": {},
   "source": [
    "# Chapter 2. 파이썬 속성 강좌"
   ]
  },
  {
   "attachments": {},
   "cell_type": "markdown",
   "metadata": {},
   "source": [
    "### 2.4 들여쓰기"
   ]
  },
  {
   "cell_type": "code",
   "execution_count": null,
   "metadata": {},
   "outputs": [],
   "source": [
    "# '#' 주석 의미\n",
    "# 주석은 실행 되지 않지만, 코드 이해에 도움이 됨.\n",
    "\n",
    "for i in [1, 2, 3, 4, 5]:\n",
    "    print(i)\n",
    "    for j in [1, 2, 3, 4, 5]:\n",
    "        print(j)\n",
    "        print(i + j)\n",
    "    print(i)\n",
    "print(\"done looping\")\n",
    "\n",
    "# 들여쓰기 덕분에 파이썬의 가독성은 높아졌지만, 잘못 들여쓰기를 하면 오류가 발생해 주의 필요"
   ]
  },
  {
   "cell_type": "code",
   "execution_count": null,
   "metadata": {},
   "outputs": [],
   "source": [
    "# 공백문자는 소괄호, 대괄호 안에서는 무시 되기 때문에 긴 계산을 하거나 코드의 가독성을 높이는데 유용함.\n",
    "long_winded_computation = (1 + 2 + 3 + 4 + 5 + 6 + 7 + 8 + 9 + 10 + 11 + 12 + 13 + 14 + 15 + 16 + 17 + 18 + 19 + 20)\n",
    "\n",
    "list_of_lists = [[1, 2, 3], [4, 5, 6], [7, 8, 9]]\n",
    "\n",
    "easier_to_read_list_of_lists  = [[1, 2, 3],\n",
    "                                [4, 5, 6],\n",
    "                                [7, 8, 9]]\n",
    "                        "
   ]
  },
  {
   "cell_type": "code",
   "execution_count": null,
   "metadata": {},
   "outputs": [],
   "source": [
    "# \\(backslash)는 다음 줄로 이어지는 것을 명시 할 수 있음.\n",
    "two_plus_three = 2 + \\\n",
    "3\n"
   ]
  },
  {
   "attachments": {},
   "cell_type": "markdown",
   "metadata": {},
   "source": [
    "### 2.5 모듈"
   ]
  },
  {
   "cell_type": "code",
   "execution_count": null,
   "metadata": {},
   "outputs": [],
   "source": [
    "# 모듈을 불러 올때는 import 사용\n",
    "\n",
    "# re는 정규표현식을 다룰 때 필요한 다양한 함수, 상수 포함 -> re뒤에 . 붙이고 함수나 상수 이름 쓰면 됨.\n",
    "import re\n",
    "my_regex = re.compile(\"[0-9]+\", re.I)"
   ]
  },
  {
   "attachments": {},
   "cell_type": "markdown",
   "metadata": {},
   "source": [
    "### 2.6 함수 : 0개 혹은 그 이상의 인자를 입력 받아 결과를 반환하는 규칙"
   ]
  },
  {
   "cell_type": "code",
   "execution_count": null,
   "metadata": {},
   "outputs": [],
   "source": [
    "def double(x) :\n",
    "    \"\"\"\n",
    "    이곳은 함수에 대한 설명을 적어 놓는 공간.\n",
    "    \"\"\"\n",
    "    return x * 2"
   ]
  },
  {
   "cell_type": "code",
   "execution_count": null,
   "metadata": {},
   "outputs": [],
   "source": [
    "# 파이썬 함수들은 변수로 할당되거나 함수의 인자로 전달할 수 있다는 점에서 일급 함수(first-class)의 특성을 가짐.\n",
    "def apply_to_one(f):\n",
    "    \"\"\"인자가 1인 함수 f를 호출\"\"\"\n",
    "    return f(1)\n",
    "\n",
    "my_double = double\n",
    "x = apply_to_one(my_double)"
   ]
  },
  {
   "cell_type": "code",
   "execution_count": null,
   "metadata": {},
   "outputs": [],
   "source": [
    "# 람다 함수\n",
    "y = apply_to_one(lambda x: x + 4)"
   ]
  },
  {
   "cell_type": "code",
   "execution_count": null,
   "metadata": {},
   "outputs": [],
   "source": [
    "# another_double = lambda x : 2 * x => 이 방법은 최대한 피하기\n",
    "def another_double(x):\n",
    "    \"\"\"대신 이렇게 작성하자!!\"\"\"\n",
    "    return 2 * x"
   ]
  },
  {
   "cell_type": "code",
   "execution_count": null,
   "metadata": {},
   "outputs": [],
   "source": [
    "# 함수의 기본 값 외의 값을 전달하고 싶을 때는 값을 직접 명시해 주면 됨.\n",
    "def my_print(message = \"my default meesage\"):\n",
    "    print(message)\n",
    "\n",
    "my_print(\"hello\") # 'hello' 출력\n",
    "my_print() # 'my default message'를 출력"
   ]
  },
  {
   "cell_type": "code",
   "execution_count": null,
   "metadata": {},
   "outputs": [],
   "source": [
    "# 인자의 이름을 명시해 주면 편리함.\n",
    "def full_name(first = \"What's-his-name\", last = \"Something\"):\n",
    "    return first + \" \" + last\n",
    "\n",
    "full_name(\"Joel\", \"Grus\") # Joel Grus\n",
    "full_name(\"Joel\") # 'Joel Something' 출력\n",
    "full_name(last = \"Grus\") # 'What's-his-name 'Grus' 출력"
   ]
  },
  {
   "attachments": {},
   "cell_type": "markdown",
   "metadata": {},
   "source": [
    "### 2.7 문자열(String) : 작은 따옴표(') 또는 큰 따옴표(\")로 묶어 나타냄."
   ]
  },
  {
   "cell_type": "code",
   "execution_count": null,
   "metadata": {},
   "outputs": [],
   "source": [
    "single_quoted_string = 'data science'\n",
    "double_quoted_string = \"data science\""
   ]
  },
  {
   "cell_type": "code",
   "execution_count": null,
   "metadata": {},
   "outputs": [],
   "source": [
    "tab_string = \"\\t\" # tab을 의미하는 문자열\n",
    "len(tab_string)"
   ]
  },
  {
   "cell_type": "code",
   "execution_count": null,
   "metadata": {},
   "outputs": [],
   "source": [
    "not_tab_string = r\"\\t\" # r : raw string(가공되지 않은 문자열)\n",
    "len(not_tab_string)"
   ]
  },
  {
   "cell_type": "code",
   "execution_count": null,
   "metadata": {},
   "outputs": [],
   "source": [
    "multi_line_string = \"\"\"This is the first line.\n",
    "and this is the second line\n",
    "and this is the third line\"\"\"\n",
    "\n",
    "print(multi_line_string)"
   ]
  },
  {
   "attachments": {},
   "cell_type": "markdown",
   "metadata": {},
   "source": [
    "### 2.8 예외처리 : 코드가 잘못됐을 때 예외가 발생함을 알려주는것으로, 예외를 알려주지 않으면 프로그램이 죽는것을 방지하기 위해 try, except 사용함."
   ]
  },
  {
   "cell_type": "code",
   "execution_count": null,
   "metadata": {},
   "outputs": [],
   "source": [
    "try:\n",
    "    print(0 / 0)\n",
    "except ZeroDivisionError:\n",
    "    print(\"cannot divide by zero\")"
   ]
  },
  {
   "attachments": {},
   "cell_type": "markdown",
   "metadata": {},
   "source": [
    "### 2.9 List : 순서가 있는 자료의 집합(다른 언어에서는 array라고 하는 것과 유사하지만, 리스트의 기능이 더 풍부함.)"
   ]
  },
  {
   "cell_type": "code",
   "execution_count": null,
   "metadata": {},
   "outputs": [],
   "source": [
    "integer_list = [1, 2, 3]\n",
    "heterogeneous_list = [\"string\", 0.1, True]\n",
    "list_of_lists = [integer_list, heterogeneous_list, []]\n",
    "\n",
    "list_length = len(integer_list) \n",
    "list_sum = sum(integer_list) \n",
    "\n",
    "print(list_length)\n",
    "print(list_sum)"
   ]
  },
  {
   "cell_type": "code",
   "execution_count": null,
   "metadata": {},
   "outputs": [],
   "source": [
    "# 대괄호 사용해 리스트의 n번째 값을 불러오거나 설정 가능\n",
    "x = [0, 1, 2, 3, 4, 5, 6, 7, 8, 9]\n",
    "zero = x[0]\n",
    "one = x[1]\n",
    "nine = x[-1]\n",
    "eight = x[-2]\n",
    "x[0] = -1\n",
    "\n",
    "print(x)"
   ]
  },
  {
   "cell_type": "code",
   "execution_count": null,
   "metadata": {},
   "outputs": [],
   "source": [
    "# 대괄호 사용해서 리스트 슬라이싱\n",
    "first_three = x[:3]\n",
    "three_to_end = x[3:]\n",
    "one_to_four = x[1:5]\n",
    "last_three = x[-3:]\n",
    "without_first_and_last = x[1:-1]\n",
    "copy_of_x = x[:]\n",
    "\n",
    "every_third = x[::3]\n",
    "five_to_three = x[5:2:-1]"
   ]
  },
  {
   "cell_type": "code",
   "execution_count": null,
   "metadata": {},
   "outputs": [],
   "source": [
    "# in 연산자 이용해서 리스트 안 항목의 존재 여부 확인 가능\n",
    "print(1 in [1, 2, 3])\n",
    "print(0 in [1, 2, 3])"
   ]
  },
  {
   "cell_type": "code",
   "execution_count": null,
   "metadata": {},
   "outputs": [],
   "source": [
    "# 리스트 추가는 extend 사용하자!\n",
    "x = [1, 2, 3]\n",
    "x.extend([4, 5, 6])\n",
    "\n",
    "print(x)"
   ]
  },
  {
   "cell_type": "code",
   "execution_count": null,
   "metadata": {},
   "outputs": [],
   "source": [
    "x = [1, 2, 3]\n",
    "y = x + [4, 5, 6]\n",
    "\n",
    "print(y)"
   ]
  },
  {
   "cell_type": "code",
   "execution_count": null,
   "metadata": {},
   "outputs": [],
   "source": [
    "x = [1, 2, 3]\n",
    "x.append(0)\n",
    "y = x[-1]\n",
    "z = len(x)\n",
    "\n",
    "print(y)\n",
    "print(z)"
   ]
  },
  {
   "cell_type": "code",
   "execution_count": null,
   "metadata": {},
   "outputs": [],
   "source": [
    "# 리스트 항목의 개수를 알면 리스트 풀 수 도 있음.\n",
    "x, y = [1, 2]\n",
    "\n",
    "print(x)\n",
    "print(y)"
   ]
  },
  {
   "cell_type": "code",
   "execution_count": null,
   "metadata": {},
   "outputs": [],
   "source": [
    "# 항목의 개수가 다르면 ValueError가 발생하기 때문에 버릴 항목은 보통 밑줄로 표시함.\n",
    "_, y = [1, 2]\n",
    "\n",
    "print(y)"
   ]
  },
  {
   "attachments": {},
   "cell_type": "markdown",
   "metadata": {},
   "source": [
    "### 2.10 Tuple : 변경할 수 없는 리스트, 리스트에서 수정을 제외한 모든 기능을 튜플에 적용할 수 있음. 괄호 사용하거나 아무러 기호없이 정의함."
   ]
  },
  {
   "cell_type": "code",
   "execution_count": null,
   "metadata": {},
   "outputs": [],
   "source": [
    "my_list = [1, 2]\n",
    "my_tuple = (1, 2)\n",
    "other_tuple = 3, 4\n",
    "my_list[1] = 3\n",
    "\n",
    "print(my_list)\n",
    "\n",
    "try:\n",
    "    my_tuple[1] = 3\n",
    "except TypeError:\n",
    "    print(\"Cannot modify a tuple\")"
   ]
  },
  {
   "cell_type": "code",
   "execution_count": null,
   "metadata": {},
   "outputs": [],
   "source": [
    "# 함수에서 여러 값을 반환할 때 튜플 사용하면 편리함.\n",
    "def sum_and_product(x, y):\n",
    "    return(x + y), (x * y)\n",
    "\n",
    "sp = sum_and_product(2, 3)\n",
    "s, p = sum_and_product(5, 10)\n",
    "\n",
    "print(sp)\n",
    "print(s, p)"
   ]
  },
  {
   "cell_type": "code",
   "execution_count": null,
   "metadata": {},
   "outputs": [],
   "source": [
    "# 튜플과 리스트는 다중 할당을 지원함.\n",
    "x, y = 1, 2\n",
    "print(x, y)\n",
    "x, y = y, x\n",
    "print(x, y)"
   ]
  },
  {
   "attachments": {},
   "cell_type": "markdown",
   "metadata": {},
   "source": [
    "### 2.11 Dictionary : 특정 value와 연관된 key를 연결한 데이터 구조로, 값을 빠르게 검색 할 수 있음."
   ]
  },
  {
   "cell_type": "code",
   "execution_count": null,
   "metadata": {},
   "outputs": [],
   "source": [
    "empty_dict = {}\n",
    "# empty_dict2 = dict() -> 덜 파이썬스러운 딕셔너리 만드는 법\n",
    "grades = {\"Joel\": 80, \"Tim\": 95}\n",
    "\n",
    "# 대괄호를 사용해 키의 값을 불러올 수 있음.\n",
    "joels_grade = grades[\"Joel\"]\n",
    "print(joels_grade)\n",
    "\n",
    "# 만약 딕셔너리에 존재하지 않는 키를 입력하면 KeyError 발생\n",
    "\n",
    "try:\n",
    "    kates_grade = grades[\"Kate\"]\n",
    "except KeyError:\n",
    "    print(\"no grade for Kate!\")"
   ]
  },
  {
   "cell_type": "code",
   "execution_count": null,
   "metadata": {},
   "outputs": [],
   "source": [
    "# 연산자 in 사용하여 키의 존재 여부 확인 할 수 있음.\n",
    "joel_has_grade = \"Joel\" in grades\n",
    "kate_has_grade = \"Kate\" in grades\n",
    "\n",
    "print(joel_has_grade)\n",
    "print(kate_has_grade)"
   ]
  },
  {
   "cell_type": "code",
   "execution_count": null,
   "metadata": {},
   "outputs": [],
   "source": [
    "# 'get' 메서드* 사용 -> 입력한 키가 딕셔너리에 없어도 에러 반환하지 않고 기본값 반환 해줌. *메서드 : 클래스에 속한 함수\n",
    "joels_grade  = grades.get(\"Joel\", 0)\n",
    "kates_grade = grades.get(\"Kate\", 0)\n",
    "no_one_grade = grades.get(\"No One\") # 기본값으로 None 반환\n",
    "\n",
    "print(joels_grade)\n",
    "print(kates_grade)\n",
    "print(no_one_grade)"
   ]
  },
  {
   "cell_type": "code",
   "execution_count": null,
   "metadata": {},
   "outputs": [],
   "source": [
    "# 대괄호 사용 -> 키와 값을 새로 지정 가능 \n",
    "grades[\"Tim\"] = 99 # 기존값 대체\n",
    "grades[\"Kate\"] = 100 # 세 번째 항목 추가 \n",
    "num_students = len(grades)\n",
    "\n",
    "print(grades)\n",
    "print(len(grades))\n"
   ]
  },
  {
   "cell_type": "code",
   "execution_count": null,
   "metadata": {},
   "outputs": [],
   "source": [
    "# 정형화된 데이터 간단하게 나타낼 때는 주로 딕셔너리 사용\n",
    "tweet = {\n",
    "    \"user\" : \"joelgrus\",\n",
    "    \"text\" : \"Data Science is Awesome\",\n",
    "    \"retweet_count\" : 100,\n",
    "    \"hashtags\" : [\"#data\", \"#science\", \"#datascience\", \"#awesome\", \"#yolo\"]   \n",
    "}"
   ]
  },
  {
   "cell_type": "code",
   "execution_count": null,
   "metadata": {},
   "outputs": [],
   "source": [
    "# 딕셔너리의 모든 키 한번에 살펴보기\n",
    "tweet_keys = tweet.keys() # 키에 대한 리스트\n",
    "tweet_values = tweet.values() # 값에 대한 리스트\n",
    "tweet_items = tweet.items() # (key, value) 튜플에 대한 리스트\n",
    "\n",
    "print(\"user\" in tweet_keys) # 리스트에서 in을 사용해 느림.\n",
    "print(\"user\" in tweet) # 훨씬 파이썬스럽고 딕셔너리에서 in을 사용해 빠름\n",
    "print(\"joelgrus\" in tweet_values)\n",
    "\n",
    "## 딕셔너리의 키는 수정할 수 없고, 리스트를 키로 사용할 수 없음!! 만약 다양한 값으로 구성된 키가 필요하다면 튜플이나 문자열을 키로 사용하자!!"
   ]
  },
  {
   "cell_type": "code",
   "execution_count": null,
   "metadata": {},
   "outputs": [],
   "source": [
    "document = ['apple', 'plum', 'apple', 'orange', 'peach', 'peach', 'owatermelon','peach', 'plum', 'grape', \n",
    "            'orange', 'orange','peach', 'peach', 'orange']"
   ]
  },
  {
   "cell_type": "code",
   "execution_count": null,
   "metadata": {},
   "outputs": [],
   "source": [
    "# 단어 : key, 빈도수 : values -> 각 단어가 딕셔너리에 이미 존재하면 값 증가, 존해지 않으면 새로운 키와 값 추가 \n",
    "\n",
    "word_counts = {}\n",
    "for word in document:\n",
    "    if word in word_counts:\n",
    "        word_counts[word] += 1\n",
    "    else:\n",
    "        word_counts[word] = 1\n"
   ]
  },
  {
   "cell_type": "code",
   "execution_count": null,
   "metadata": {},
   "outputs": [],
   "source": [
    "# 예외처리 하면서 딕셔너리 생성\n",
    "word_counts = {}\n",
    "for word in document:\n",
    "    try:\n",
    "        word_counts[word] += 1\n",
    "    except KeyError:\n",
    "        word_counts[word] = 1"
   ]
  },
  {
   "cell_type": "code",
   "execution_count": null,
   "metadata": {},
   "outputs": [],
   "source": [
    "# 존재하지 않는 키를 적절하게 처리해주는 get 사용해 딕셔너리 생성\n",
    "word_counts = {}\n",
    "for word in document:\n",
    "    previous_count = word_counts.get(word, 0)\n",
    "    word_counts[word] = previous_count + 1"
   ]
  },
  {
   "cell_type": "code",
   "execution_count": null,
   "metadata": {},
   "outputs": [],
   "source": [
    "# defaultdict : 평범한 딕셔너리와 다르게 존재하지 않는 키가 주어진다면 키와 인자에서 주어진 값으로 dict에 새로운 항목을 추가해줌.\n",
    "from collections import defaultdict\n",
    "\n",
    "word_counts = defaultdict(int) # int()는 0을 생성\n",
    "for word in document:\n",
    "    word_counts[word] +=1"
   ]
  },
  {
   "cell_type": "code",
   "execution_count": null,
   "metadata": {},
   "outputs": [],
   "source": [
    "dd_list = defaultdict(list) # 빈 리스트 생성\n",
    "dd_list[2].append(1) # dd_list {2: [1]} 포함\n",
    "\n",
    "dd_dict = defaultdict(dict) # 빈 딕셔너리 생성\n",
    "dd_dict[\"Joel\"][\"City\"] = \"Seattle\"\n",
    "\n",
    "dd_pair = defaultdict(lambda: [0, 0])\n",
    "dd_pair[2][1] = 1 # dd_pair {2: [0,1]} 포함 "
   ]
  },
  {
   "attachments": {},
   "cell_type": "markdown",
   "metadata": {},
   "source": [
    "### 2.12 Counter : 연속된 값을 defaultdict(int)와 유사한 객체로 변환해 주며, 키와 값의 빈도를 연결시켜줌."
   ]
  },
  {
   "cell_type": "code",
   "execution_count": null,
   "metadata": {},
   "outputs": [],
   "source": [
    "from collections import Counter\n",
    "c = Counter([0, 1, 2, 0]) \n",
    "print(c)"
   ]
  },
  {
   "cell_type": "code",
   "execution_count": null,
   "metadata": {},
   "outputs": [],
   "source": [
    "# 특정 문서에서 단어의 개수 셀 때도 유용함\n",
    "word_counts = Counter(document)\n",
    "print(word_counts)"
   ]
  },
  {
   "cell_type": "code",
   "execution_count": null,
   "metadata": {},
   "outputs": [],
   "source": [
    "# Counter 객체의 most_common 함수\n",
    "for word, count in word_counts.most_common(3): # 가장 자주 나오는 단어 3개와 단어들의 빈도수 출력\n",
    "    print(word, count)"
   ]
  },
  {
   "attachments": {},
   "cell_type": "markdown",
   "metadata": {},
   "source": [
    "### Set : 파이썬 데이터 구조 중 유일한 항목의 집합을 나타내는 구조로, 중괄호 {}를 사용해 정의 함."
   ]
  },
  {
   "cell_type": "code",
   "execution_count": null,
   "metadata": {},
   "outputs": [],
   "source": [
    "primes_belos_10 = {2, 3, 5, 7}\n",
    "\n",
    "s = set() # 빈 set 생성\n",
    "s.add(1)\n",
    "print(s)\n",
    "\n",
    "s.add(2)\n",
    "print(s)\n",
    "\n",
    "s.add(2) # 2가 추가 되지 않음.\n",
    "print(s)\n",
    "\n",
    "x = len(s)\n",
    "print(x)\n",
    "\n",
    "y = 2 in s\n",
    "print(y)\n",
    "\n",
    "z = 3 in s\n",
    "print(z)\n",
    "\n",
    "# set에서 in은 굉장히 빠르게 작동함. => 수많은 항목 중 특정 항목의 존재 여부를 확인해 보기 위해서 리스트를 사용하는 것보다 집합을 사용하는 것이 훨씬 효율적임."
   ]
  },
  {
   "cell_type": "code",
   "execution_count": null,
   "metadata": {},
   "outputs": [],
   "source": [
    "hundreds_of_other_words = ['apple', 'plum', 'apple', 'orange', 'peach', 'peach', 'owatermelon','peach', 'plum', 'grape', \n",
    "            'orange', 'orange','peach', 'peach', 'orange']\n",
    "\n",
    "stopwords_list = [\"a\", \"an\", \"at\"] + hundreds_of_other_words + [\"yet\", \"you\"]\n",
    "\n",
    "\"zip\" in stopwords_list # 모든 항목을 확인해야 함.\n",
    "\n",
    "stopwords_set = set(stopwords_list)\n",
    "\"zip\" in stopwords_set # 굉장히 빠르게 확인 가능"
   ]
  },
  {
   "cell_type": "code",
   "execution_count": null,
   "metadata": {},
   "outputs": [],
   "source": [
    "# set은 중복된 원소를 제거 해줌.\n",
    "item_list = [1, 2, 3, 1, 2, 3]\n",
    "num_items = len(item_list)\n",
    "print(num_items)\n",
    "\n",
    "item_set = set(item_list)\n",
    "print(item_set)\n",
    "\n",
    "num_distinct_items = len(item_set)\n",
    "print(num_distinct_items)\n",
    "\n",
    "distinct_item_list = list(item_set)\n",
    "print(distinct_item_list)"
   ]
  },
  {
   "attachments": {},
   "cell_type": "markdown",
   "metadata": {},
   "source": [
    "### 2.14 흐름 제어"
   ]
  },
  {
   "cell_type": "code",
   "execution_count": null,
   "metadata": {},
   "outputs": [],
   "source": [
    "# if 사용하여 조건에 따라 코드 제어 \n",
    "if 1 > 2:\n",
    "    message = \"if only 1 were greater than two...\"\n",
    "elif 1 > 3:\n",
    "    message = \"elif stands for 'else if'\"\n",
    "else:\n",
    "    message = \"when all else fails use else (if you want to)\""
   ]
  },
  {
   "cell_type": "code",
   "execution_count": null,
   "metadata": {},
   "outputs": [],
   "source": [
    "# 삼항 연산자(Ternary operator) -> if-then-else 문을 한 줄로 표현 가능\n",
    "parity = \"even\" if x % 2 == 0 else \"odd\""
   ]
  },
  {
   "cell_type": "code",
   "execution_count": null,
   "metadata": {},
   "outputs": [],
   "source": [
    "# while문 사용해 제어\n",
    "x = 0\n",
    "while x < 10:\n",
    "    print(f\"{x} is less than 10\")\n",
    "    x += 1"
   ]
  },
  {
   "cell_type": "code",
   "execution_count": null,
   "metadata": {},
   "outputs": [],
   "source": [
    "# for, in을 더 자주 사용함\n",
    "for x in range(10):\n",
    "    print(f\"{x} is less than 10\")"
   ]
  },
  {
   "cell_type": "code",
   "execution_count": null,
   "metadata": {},
   "outputs": [],
   "source": [
    "# 더 복잡한 논리 체계가 필요하면 continue, break 사용 가능\n",
    "for x in range(10):\n",
    "    if x == 3:\n",
    "        continue # 다음 경우로 넘어감.\n",
    "    if x == 5:\n",
    "        break # for문 전체가 끝남\n",
    "    print(x)"
   ]
  },
  {
   "attachments": {},
   "cell_type": "markdown",
   "metadata": {},
   "source": [
    "### 2.15 True & False\n",
    "\n",
    "False\n",
    "- False\n",
    "- None\n",
    "- [] (빈 리스트)\n",
    "- {} (빈 딕셔너리)\n",
    "- \"\"\n",
    "- set()\n",
    "- 0\n",
    "- 0.0\n",
    "\n",
    "-> 나머지 거의 모든 것은 True 의미"
   ]
  },
  {
   "cell_type": "code",
   "execution_count": null,
   "metadata": {},
   "outputs": [],
   "source": [
    "one_is_less_than_two = 1 < 2\n",
    "print(one_is_less_than_two)\n",
    "\n",
    "true_equals_false = True == False\n",
    "print(true_equals_false)"
   ]
  },
  {
   "cell_type": "code",
   "execution_count": null,
   "metadata": {},
   "outputs": [],
   "source": [
    "# 파이썬에서 null처럼 존재하지 않는 값을 None으로 표기함.\n",
    "x = None\n",
    "assert x == None, \"this is the not the Pythonic way to check for None\"\n",
    "assert x is None, \"this is the Pythonic way to check for None\""
   ]
  },
  {
   "cell_type": "code",
   "execution_count": null,
   "metadata": {},
   "outputs": [],
   "source": [
    "s = 'some function that returns a string'\n",
    "if s:\n",
    "    first_char = s[0]\n",
    "else:\n",
    "    first_char = \"\""
   ]
  },
  {
   "cell_type": "code",
   "execution_count": null,
   "metadata": {},
   "outputs": [],
   "source": [
    "# 간단하게 한줄로 표현\n",
    "first_char = s and s [0] # and : 첫 번째 값이 참이면 두 번째 값 반환, 거짓이면 첫 번째 값 반환\n",
    "print(first_char)"
   ]
  },
  {
   "cell_type": "code",
   "execution_count": null,
   "metadata": {},
   "outputs": [],
   "source": [
    "safe_x = x or 0\n",
    "\n",
    "# x가 숫자이거나 None이면 값은 항상 숫자일 것"
   ]
  },
  {
   "cell_type": "code",
   "execution_count": null,
   "metadata": {},
   "outputs": [],
   "source": [
    "safe_x = x if x is not None else 0 "
   ]
  },
  {
   "cell_type": "code",
   "execution_count": null,
   "metadata": {},
   "outputs": [],
   "source": [
    "# 리스트의 모든 항목이 참이라면 True 반환해 주는 all 함수, 적어도 하나의 항목이 참이라면 True 반환해 주는 any 함수가 있음.\n",
    "\n",
    "print(all([True, 1, {3}]))\n",
    "print(all([True, 1, {}]))\n",
    "print(any([True, 1, {}]))\n",
    "print(all([]))\n",
    "print(any([]))"
   ]
  },
  {
   "attachments": {},
   "cell_type": "markdown",
   "metadata": {},
   "source": [
    "### 2.16 정렬\n",
    "### : 파이썬의 모든 리스트에는 리스트를 자동으로 정렬해 주는 sort 메서드가 있음, 하지만 이미 만든 리스트를 망치고 싶지 않다면 sorted 함수를 사용해 사롭게 정렬된 리스트를 생성하자!!"
   ]
  },
  {
   "cell_type": "code",
   "execution_count": null,
   "metadata": {},
   "outputs": [],
   "source": [
    "x = [4, 1, 2, 3]\n",
    "y = sorted(x) # x는 변하지 않음.\n",
    "print(x)\n",
    "print(y)\n",
    "\n",
    "x.sort()\n",
    "print(x)"
   ]
  },
  {
   "cell_type": "code",
   "execution_count": null,
   "metadata": {},
   "outputs": [],
   "source": [
    "# sort 메서드, sorted 함수는 리스트의 각 항목을 일일이 비교해서 오름차순으로 정렬 해줌. 내림차순으로 정렬은 reverse = True 추가 해주기\n",
    "# 리스트의 각 항목끼리 서료 비교하는 대신 key를 사용하면 지정한 함수의 결과값을 기준으로 리스트를 정렬할 수 있음.\n",
    "\n",
    "# 절댓값의 내림차순으로 리스트 정렬\n",
    "x = sorted([-4, 1, -2, 3], key = abs, reverse = True)\n",
    "print(x)\n",
    "\n",
    "# 빈도의 내림차순으로 단어, 빈도를 정렬\n",
    "wc = sorted(word_counts.items(),\n",
    "            key = lambda word_and_count: word_and_count[1],\n",
    "            reverse = True)\n",
    "print(wc)"
   ]
  },
  {
   "attachments": {},
   "cell_type": "markdown",
   "metadata": {},
   "source": [
    "### 2.17 List comprehension : 기존의 리스트에서 특정 항목을 선택하거나 변환시킨 결과를 새로운 리스트에 가장 파이썬스럽게 저장하하는 방법"
   ]
  },
  {
   "cell_type": "code",
   "execution_count": null,
   "metadata": {},
   "outputs": [],
   "source": [
    "even_numbers = [x for x in range(5) if x % 2 == 0]\n",
    "print(even_numbers)\n",
    "\n",
    "squares = [x * x for x in range(5)]\n",
    "print(squares)\n",
    "\n",
    "even_squares = [x * x for x in even_numbers]\n",
    "print(even_squares)\n",
    "\n",
    "# 딕셔너리나 집합으로 변환 가능\n",
    "square_dict = {x: x * x for x in range(5)}\n",
    "print(square_dict)\n",
    "\n",
    "square_set = {x * x for x in [1, -1]}\n",
    "print(square_set)"
   ]
  },
  {
   "cell_type": "code",
   "execution_count": null,
   "metadata": {},
   "outputs": [],
   "source": [
    "# 보통 리스트에서는 불필요한 값은 밑줄로 표기\n",
    "zeros = [0 for _ in even_numbers]\n",
    "print(zeros)\n",
    "\n",
    "# 리스트 컴프리헨션에는 여러 for문을 포함할 수 있음.\n",
    "pairs = [(x, y)\n",
    "        for x in range(10)\n",
    "        for y in range(10)]\n",
    "print(pairs)\n",
    "\n",
    "# 뒤에 나오는 for문은 앞에 나온 결과에 대해 반복함.\n",
    "increasing_pairs = [(x, y)\n",
    "                    for x in range(10)\n",
    "                    for y in range(x + 1, 10)]\n",
    "print(increasing_pairs)"
   ]
  },
  {
   "attachments": {},
   "cell_type": "markdown",
   "metadata": {},
   "source": [
    "### 2.18 자동 테스트 & assert\n",
    "#### - 자동 테스트 : type이나 자동 테스트(automated test)를 통해 코드가 제대로 작성되었는지 확인 가능\n",
    "#### - assert : 다양한 테스팅 프레임워크가 존재하지만 이 책에서는 assert문만 사용함, assert는 지정된 조건이 충족되지 않으면 AssertionError를 반환함."
   ]
  },
  {
   "cell_type": "code",
   "execution_count": null,
   "metadata": {},
   "outputs": [],
   "source": [
    "assert 1 + 1 == 2\n",
    "\n",
    "# 조건이 충족되지 않을 때 출력하고 싶은 문구 추가 가능 \n",
    "assert 1 + 1 == 2, \"1 + 1 should equal 2 but didn't\""
   ]
  },
  {
   "cell_type": "code",
   "execution_count": null,
   "metadata": {},
   "outputs": [],
   "source": [
    "def smallest_item(xs):\n",
    "    return min(xs)\n",
    "\n",
    "assert smallest_item([10, 20, 5, 40]) == 5\n",
    "assert smallest_item([1, 0, -1, 2]) == -1"
   ]
  },
  {
   "attachments": {},
   "cell_type": "markdown",
   "metadata": {},
   "source": [
    "### 2.19 객체 지향 프로그래밍\n",
    "### : 클래스(class) 사용해 객체 지향 프로그래밍을 하면 데이터와 관련 함수를 하나로 묶어줄 수 있음, 코드를 더 깔끔하고 간단하게 작성하기 위해 클래스를 사용 "
   ]
  },
  {
   "cell_type": "code",
   "execution_count": null,
   "metadata": {},
   "outputs": [],
   "source": [
    "# class는 0개 이상의 멤버 함수를 포함해야 함, 모든 멤버 함수의 첫 번째 인자는 self로 정의해야 함.\n",
    "class CountingClicker: # class 뒤에 파스칼케이스(PascalCase)로 클래스 이름 표기 -> 각 단어의 첫 글자를 대문자로 표현하는 방식\n",
    "    \"\"\"함수처럼 클래스에서도 주석을 추가 할 수 있음\"\"\"\n",
    "    def __init__(self, count = 0): \n",
    "        self.count = count\n",
    "\n",
    "# 클래스의 이름으로 클래스의 인스턴스를 생성할 수 있음.\n",
    "clicker1 = CountingClicker() # count = 0으로 생성된 인스턴스\n",
    "\n",
    "clicker2 = CountingClicker(100) # count = 100으로 생성된 인스턴스\n",
    "\n",
    "clicker3 = CountingClicker(count = 100) # 동일하지만 명시적으로 표현\n",
    "\n",
    "# 메서드의 이름이 밑줄 표시로 시작하는 경우, 클래스 밖에서 바로 호출을 하면 안되는 private 메서드를 의미 함, 하지만 파이썬에서는 클래스 밖에서 프라이빗 메서드 호출하는 것을 막아두지는 않았음."
   ]
  },
  {
   "cell_type": "code",
   "execution_count": null,
   "metadata": {},
   "outputs": [],
   "source": [
    "# __repr__ : 클래스 인스턴스를 문자열 형태로 반환해주는 dunder(__: 언더스코어 두 개) 메서드\n",
    "\n",
    "def __repr__(self):\n",
    "    return f\"CountingClicker(count={set.count})\""
   ]
  },
  {
   "cell_type": "code",
   "execution_count": null,
   "metadata": {},
   "outputs": [],
   "source": [
    "class Set:\n",
    "    def __init__(self, values=None):\n",
    "        '''이것은 constructor(생성자)이다. 새로운 Set을 만들면 호출된다. 다음과 같이 사용할 수 있다.\n",
    "        s1 = Set()  # 비어 있는 Set\n",
    "        s2 = Set([1,2,2,3])  # 초기값이 주어진 Set'''\n",
    "\n",
    "        self.dict = {}  # 모든 Set의 인스턴스는 자체적으로 dict를 유지한다. 이 dict를 통해 항목의 존재 여부를 확인할 것이다.\n",
    "\n",
    "        if values is not None:\n",
    "            for value in values:\n",
    "                self.add(value)\n",
    "                \n",
    "    def __repr__(self):\n",
    "        '''파이썬 프롬프트에서 이 함수를 입력하거나 str()으로 보내 주면 Set 객체를 문자열로 표현해 줌'''\n",
    "        return 'Set: ' + str(self.dict.keys())\n",
    "    \n",
    "    # self.dict에서 항목과 True를 각각 key와 value로 사용해서 Set 안에 존재하는 항목을 표현\n",
    "    def add(self, value):\n",
    "        self.dict[value] = True\n",
    "    \n",
    "    # 만약 항목이 dict의 key라면 항목은 Set 안에 존재함\n",
    "    def contains(self, value):\n",
    "        return value in self.dict\n",
    "    \n",
    "    def remove(self, value):\n",
    "        del self.dict[value]"
   ]
  },
  {
   "cell_type": "code",
   "execution_count": null,
   "metadata": {},
   "outputs": [],
   "source": [
    "s = Set([1,2,3])\n",
    "s.add(4)\n",
    "print(s.contains(4))  \n",
    "\n",
    "s.remove(3)\n",
    "print(s.contains(3))  "
   ]
  },
  {
   "attachments": {},
   "cell_type": "markdown",
   "metadata": {},
   "source": [
    "### 2.20 Iterator & Generator"
   ]
  },
  {
   "cell_type": "code",
   "execution_count": null,
   "metadata": {},
   "outputs": [],
   "source": [
    "def generate_range(n):\n",
    "    i = 0\n",
    "    while i < n:\n",
    "        yield i # yield가 호출될 때마다 제너레이터에 해당 값을 생성\n",
    "        i += 1"
   ]
  },
  {
   "cell_type": "code",
   "execution_count": null,
   "metadata": {},
   "outputs": [],
   "source": [
    "for i in generate_range(10):\n",
    "    print(f\"i: {i}\")\n",
    "\n",
    "# 사실 range 자체가 제너레이터로 만들어졌기 때문에 이렇게 따로 만들 필요는 없지만, 이는 무한한 수열도 메모리의 제약을 받지 않고 구현할 수 있다는 것을 의미함."
   ]
  },
  {
   "cell_type": "code",
   "execution_count": null,
   "metadata": {},
   "outputs": [],
   "source": [
    "def natural_numbers():\n",
    "    \"\"\"1, 2, 3, ...을 반환\"\"\"\n",
    "    n = 1\n",
    "    while True:\n",
    "        yield n\n",
    "        n += 1\n",
    "    \n",
    "# break 없이 무한 수열을 생성하는 것은 비추천\n",
    "# 제너레이터의 단점은 제너레이터를 단 한번만 반속할 수 있다는 점. 만약 데이터를 여러번 반복해야 한다면 제너레이터를 다시 만들거나 리스트를 사용해야 함.\n",
    "# 제너레이터를 매번 생성하는 것이 너무 오래 걸린다면 리스트 사용을 추천"
   ]
  },
  {
   "cell_type": "code",
   "execution_count": null,
   "metadata": {},
   "outputs": [],
   "source": [
    "# 괄호 안에 for문을 추가하는 방법으로 제너레이터 생성\n",
    "evens_below_20 = (i for i in generate_range(20) if i % 2 == 0)\n",
    "evens_below_20"
   ]
  },
  {
   "cell_type": "code",
   "execution_count": null,
   "metadata": {},
   "outputs": [],
   "source": [
    "# 실제 반복문이 시작되기 전까지는 제너레이터가 생성되지 않음.\n",
    "data = natural_numbers()\n",
    "evens = (x for x in data if x % 2 == 0)\n",
    "even_squares = (x ** 2 for x in evens)\n",
    "even_squares_ending_in_six = (x for x in even_squares if x % 10 == 6)"
   ]
  },
  {
   "cell_type": "code",
   "execution_count": null,
   "metadata": {},
   "outputs": [],
   "source": [
    "# 종종 리스트나 제너레이터에서 항목을 하나씩 확인해 볼 경우, 항목의 index를 반환하고 싶을 때 파이썬의 enumerate 함수를 사용하면 됨.\n",
    "names = [\"Alice\", \"Bob\", \"Charlie\", \"Debbie\"]\n",
    "\n",
    "# 파이썬스럽지 않다.\n",
    "for i in range(len(names)):\n",
    "    print(f\"name {i} is {names[i]}\")\n",
    "\n",
    "i = 0\n",
    "for name in names:\n",
    "    print(f\"name {i} is {names[i]}\")\n",
    "    i += 1\n",
    "\n",
    "# 파이썬스럽다.\n",
    "for i, name in enumerate(names):\n",
    "    print(f\"name {i} is {name}\")"
   ]
  },
  {
   "attachments": {},
   "cell_type": "markdown",
   "metadata": {},
   "source": [
    "### 2.21 난수 생성"
   ]
  },
  {
   "cell_type": "code",
   "execution_count": null,
   "metadata": {},
   "outputs": [],
   "source": [
    "import random\n",
    "random.seed(10) # 매번 동일한 결과를 반환해 주는 설정\n",
    "\n",
    "four_uniform_randoms = [random.random() for _ in range(4)]\n",
    "print(four_uniform_randoms)"
   ]
  },
  {
   "cell_type": "code",
   "execution_count": null,
   "metadata": {},
   "outputs": [],
   "source": [
    "# 동일한 난수를 계속 사용하고 싶다면 random.seed를 통해 매번 고정된 난수를 생성하면 됨.\n",
    "random.seed(10)\n",
    "print(random.random())\n",
    "random.seed(10)\n",
    "print(random.random())"
   ]
  },
  {
   "cell_type": "code",
   "execution_count": null,
   "metadata": {},
   "outputs": [],
   "source": [
    "# 인자가 1개 혹은 2개인 random.randrange 메서드를 사용하면 range()에 해당하는 구간 안에서 난수를 생성 할 수 있음.\n",
    "random.randrange(10) # [0 ,1, ..., 9]에서 난수 생성\n",
    "random.randrange(3, 6) # [3, 4, 5]에서 난수 생성"
   ]
  },
  {
   "cell_type": "code",
   "execution_count": null,
   "metadata": {},
   "outputs": [],
   "source": [
    "# random.shuffle : 리스트의 항목을 임의 순서로 재정렬 \n",
    "up_to_ten = [1, 2, 3, 4, 5, 6, 7, 8, 9, 10]\n",
    "random.shuffle(up_to_ten)\n",
    "print(up_to_ten)"
   ]
  },
  {
   "cell_type": "code",
   "execution_count": null,
   "metadata": {},
   "outputs": [],
   "source": [
    "# random.choice : 리스트에서 임의의 항목 하나 선택\n",
    "my_best_friend = random.choice([\"Alice\", \"Bob\", \"Charlie\"])\n",
    "print(my_best_friend)"
   ]
  },
  {
   "cell_type": "code",
   "execution_count": null,
   "metadata": {},
   "outputs": [],
   "source": [
    "# random.sample : 리스트에서 중복이 허용되지 않는 임의의 표본 리스트 만들기\n",
    "lottery_numbers = range(60)\n",
    "winning_numbers = random.sample(lottery_numbers, 6)\n",
    "print(winning_numbers)"
   ]
  },
  {
   "cell_type": "code",
   "execution_count": null,
   "metadata": {},
   "outputs": [],
   "source": [
    "# random.choice 메서드 여러 번 사용 -> 중복이 허용되는 임의의 표본 리스트 만들기 가능\n",
    "four_with_replacement = [random.choice(range(10)) for _ in range(4)]\n",
    "print(four_with_replacement)"
   ]
  },
  {
   "attachments": {},
   "cell_type": "markdown",
   "metadata": {},
   "source": [
    "### 2.22 정규표현식 : 문자열을 찾을 수 있음."
   ]
  },
  {
   "cell_type": "code",
   "execution_count": null,
   "metadata": {},
   "outputs": [],
   "source": [
    "import re"
   ]
  },
  {
   "cell_type": "code",
   "execution_count": null,
   "metadata": {},
   "outputs": [],
   "source": [
    "# re.match 메서드 : 문자열의 시작이 정규표현과 같은지 비교\n",
    "# re.search 메서드 : 문자열 전체에서 정규표현식과 같은 부분이 있는지 찾음.\n",
    "re_examples = [                             # 모두 True\n",
    "    not re.match(\"a\", \"cat\"),               # 'cat'은 'a'로 시작하지 않기 때문에\n",
    "    re.search(\"a\", \"cat\"),                  # 'cat' 안에는 'a'가 존재하기 때문에\n",
    "    not re.search(\"c\", \"dog\"),              # 'dog' 안에는 'c'가 존재하지 않기 때문에\n",
    "    3 == len(re.split(\"[ab]\", \"carbs\")),     # a 혹은 b 기준으로 분리하면 ['c', 'r', 's']가 생성되기 때문에\n",
    "    \"R-D-\" == re.sub(\"[0-9]\", \"-\", \"R2D2\")  # 숫자를 \"-\"로 대체하기 때문에\n",
    "]\n",
    "\n",
    "assert all(re_examples), \"all the regex examples ahould be True\""
   ]
  },
  {
   "attachments": {},
   "cell_type": "markdown",
   "metadata": {},
   "source": [
    "### 2.24 zip & argument unpacking\n",
    "#### - zip : 여러 개의 리스트를 서로 상응하는 항목의 튜플로 구성된 리스트로 변환 해줌.\n",
    "#### - argument unpacking(인자 언패킹) : 문법으로는 * 사용하고, pairs안의 항목들을 zip함수에 개별적인 인자로 전달 해줌."
   ]
  },
  {
   "cell_type": "code",
   "execution_count": null,
   "metadata": {},
   "outputs": [],
   "source": [
    "list1 = ['a', 'b', 'c']\n",
    "list2 = [1, 2, 3]\n",
    "\n",
    "# 실제 반복문이 시작되기 전까지는 묶어주지 않음.\n",
    "[pair for pair in zip(list1, list2)]"
   ]
  },
  {
   "cell_type": "code",
   "execution_count": null,
   "metadata": {},
   "outputs": [],
   "source": [
    "pairs = [('a', 1), ('b', 2), ('c', 3)]\n",
    "letters, numbers = zip(*pairs) # 인자 해체\n",
    "# = letters, numbers = zip(('a', 1), ('b', 2), ('c', 3))"
   ]
  },
  {
   "cell_type": "code",
   "execution_count": null,
   "metadata": {},
   "outputs": [],
   "source": [
    "def add(a, b): return a + b\n",
    "\n",
    "add(1, 2)\n",
    "try:\n",
    "    add([1,2])\n",
    "except TypeError:\n",
    "    print(\"add expects two inputs\")\n",
    "add(*[1, 2])"
   ]
  },
  {
   "attachments": {},
   "cell_type": "markdown",
   "metadata": {},
   "source": [
    "### 2.25 args & kwargs\n",
    "#### - args : 이름이 없는 인자로 구성된 튜플\n",
    "#### - kwargs : 이름이 주어진 인자로 구성된 딕셔너리\n",
    "#### -> 정해진 수의 인자가 있는 함수를 호출할 때도 리스트나 딕셔너리로 인자를 전달 할 수 있음."
   ]
  },
  {
   "cell_type": "code",
   "execution_count": null,
   "metadata": {},
   "outputs": [],
   "source": [
    "# 임의의 수의 인자를 받는 함수를 만들어 주기 위해 인자 언패킹을 사용하며 임의의 수의 인자를 받는 함수를 만들 수 있음.\n",
    "def magic(*args, **kwargs):\n",
    "    print(\"unnamed args:\", args)\n",
    "    print(\"keyword args:\", kwargs)\n",
    "\n",
    "magic(1, 2, key=\"word\", key2=\"word2\")"
   ]
  },
  {
   "cell_type": "code",
   "execution_count": null,
   "metadata": {},
   "outputs": [],
   "source": [
    "def other_way_magic(x, y, z):\n",
    "    return x + y + z\n",
    "\n",
    "x_y_list = [1, 2]\n",
    "z_dict = {\"z\": 3}\n",
    "assert other_way_magic(*x_y_list, **z_dict) == 6, \"1 + 2 + 3 should be 6\""
   ]
  },
  {
   "cell_type": "code",
   "execution_count": null,
   "metadata": {},
   "outputs": [],
   "source": [
    "def f2(x, y):\n",
    "    return x + y"
   ]
  },
  {
   "cell_type": "code",
   "execution_count": null,
   "metadata": {},
   "outputs": [],
   "source": [
    "def doubler_correct(f):\n",
    "    \"\"\"f의 인자에 상관없이 작동한다.\"\"\"\n",
    "    def g(*args, **kwargs):\n",
    "        \"\"\"g의 인자가 무엇이든 간에 f로 보내준다.\"\"\"\n",
    "        return 2 * f(*args, **kwargs)\n",
    "    return g\n",
    "\n",
    "g = doubler_correct(f2)\n",
    "assert g(1, 2) == 6, \"double should work now\"\n"
   ]
  },
  {
   "attachments": {},
   "cell_type": "markdown",
   "metadata": {},
   "source": [
    "### 2.26 타입 어노테이션 : 파이썬은 동적 타입의 언어 -> 변수를 올바르게만 사용한다면 변수의 타입을 신경 쓰지 않아도 됨."
   ]
  },
  {
   "cell_type": "code",
   "execution_count": null,
   "metadata": {},
   "outputs": [],
   "source": [
    "def add(a, b):\n",
    "    return a + b\n",
    "\n",
    "assert add(10, 5) == 15,                 \"+ is valid for numbers\" \n",
    "assert add([1, 2], [3]) == [1, 2, 3],    \"+ is valid for lists\" \n",
    "assert add(\"hi \", \"there\") == \"hi there\", \"+ is valid for strings\" \n",
    "\n",
    "try:\n",
    "    add(10, \"five\")\n",
    "except TypeError:\n",
    "    print(\"cannot add an int to a string\")\n",
    "\n",
    "\n",
    "# 정적 타입의 언어의 경어, 모든 함수나 객체의 타입을 명시해야 함!"
   ]
  },
  {
   "cell_type": "code",
   "execution_count": null,
   "metadata": {},
   "outputs": [],
   "source": [
    "# 타입을 명시해주는 것이 더 깔끔하고 이해하기 쉬운 함수를 만들 수 밖에 없음.\n",
    "# 타입 어노테이션 하는 방법\n",
    "from typing import List\n",
    "\n",
    "def total(xs: List) -> float:\n",
    "    return sum(total)"
   ]
  },
  {
   "cell_type": "code",
   "execution_count": null,
   "metadata": {},
   "outputs": [],
   "source": [
    "from typing import Optional\n",
    "\n",
    "values: List[int] = []\n",
    "best_so_far: Optional[float] = None # float이나 None으로 타입 명시"
   ]
  },
  {
   "cell_type": "code",
   "execution_count": null,
   "metadata": {},
   "outputs": [],
   "source": [
    "from typing import Dict, Iterable, Tuple\n",
    "\n",
    "# 키는 문자여르 값은 int\n",
    "counts: Dict[str, int] = {'data': 1, 'science' : 2}\n",
    "\n",
    "# 리스트, 제너레이터 : iterable\n",
    "lazy = evens_below_20\n",
    "if lazy:\n",
    "    evens: Iterable[int] = {x for x in range(10) if x % 2 == 0}\n",
    "else:\n",
    "    evens = [0, 2, 4, 6, 8]\n",
    "\n",
    "# 튜플 안의 각 항목들의 타입을 구체적으로 명시\n",
    "triple: Tuple[int, float, int] = (10, 2.3, 5)"
   ]
  },
  {
   "cell_type": "code",
   "execution_count": null,
   "metadata": {},
   "outputs": [],
   "source": [
    "# first-class functions 타입 명시\n",
    "from typing import Callable\n",
    "\n",
    "# repeator 함수가 문자열과 int 인자로 받고\n",
    "# 문자열을 반환해 준다는 것을 명시\n",
    "def twice(repeater: Callable[[str, int], str], s: str) -> str:\n",
    "    return repeater(s, 2)\n",
    "\n",
    "def comma_repeater(s: str, n: int) -> str:\n",
    "    n_copies = [s for _ in range(n)]\n",
    "    return ', '.join(n_copies)\n",
    "\n",
    "assert twice(comma_repeater, \"type hints\") == \"type hints, type hints\""
   ]
  },
  {
   "cell_type": "code",
   "execution_count": null,
   "metadata": {},
   "outputs": [],
   "source": [
    "# 명시된 타입 자체도 파이썬 객체이기 때문에 변수로 선언 가능\n",
    "Number = int\n",
    "Numbers = List[Number]\n",
    "\n",
    "def total(xs: Numbers) -> Number:\n",
    "    return sum(xs)"
   ]
  }
 ],
 "metadata": {
  "kernelspec": {
   "display_name": "DNM",
   "language": "python",
   "name": "python3"
  },
  "language_info": {
   "codemirror_mode": {
    "name": "ipython",
    "version": 3
   },
   "file_extension": ".py",
   "mimetype": "text/x-python",
   "name": "python",
   "nbconvert_exporter": "python",
   "pygments_lexer": "ipython3",
   "version": "3.9.13"
  },
  "orig_nbformat": 4
 },
 "nbformat": 4,
 "nbformat_minor": 2
}
